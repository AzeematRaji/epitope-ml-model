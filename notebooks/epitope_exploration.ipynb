{
 "cells": [
  {
   "cell_type": "code",
   "execution_count": 1,
   "id": "4a579974-05ee-4c09-a2ae-a93921913b31",
   "metadata": {},
   "outputs": [
    {
     "name": "stdout",
     "output_type": "stream",
     "text": [
      "Download complete!\n"
     ]
    }
   ],
   "source": [
    "import requests\n",
    "url = 'https://services.healthtech.dtu.dk/services/BepiPred-3.0/Data/IEDB/IEDBSeqsNotSharedAt20ID.fasta'\n",
    "response = requests.get(url)\n",
    "with open('../data/epipred_data.fasta', 'wb') as file:\n",
    "    file.write(response.content)\n",
    "print('Download complete!')"
   ]
  },
  {
   "cell_type": "code",
   "execution_count": 1,
   "id": "55bc9d65-ce07-44a9-919d-ba137f787ddf",
   "metadata": {},
   "outputs": [
    {
     "name": "stdout",
     "output_type": "stream",
     "text": [
      "['mgkkqhQKDKLYLTTTEWKETYGGHKDDTGRrmqralfkrlpITHCSLSLLPFEDPVcsqdgiifdltqiipYLKKYGVNPVTGKKMAAKELIHLKFDKDSDGTDYLLSIGnfrcpvtfrvftptshivticQTGNVYSLEAIEELNLKPGHLKDlLTDEPFQRKDIIVLQDPNHLEKFNIEQFHHikldlktkseieaekkamKDPKFYIRRMNNETKEILKKLEKEYIPTKIEQIEEETVDELNAAHYSQGRvaagLTSTTMEPITHQKAAILDADTVKYARVNKNgyvriltnygainlelfckdapraCENFIKHCKNGYYNktkfhriirnFILQGGDPTGTGKGGDSIWGKPFKDEIISSLSHDQRgilsmaNQGTDTNKSQFfitfrscsyldgkHTIFGRVVGGTETLNAIEKIETDESSRPIASFQfpidviflnaeifvdPFEEAEIAVEKERENIRLAKTNQESETVVSApavitQIPKPKKYGSGVGKYINLPEVTAATKRTANDIAEFGTVKKTVQSNRIFGDFSSW', 'msvtLQTTLGDIKIELYCDLCPKTCENFLALcasgyydncIFHRNIKDFMVQTGDPTGTGKGGDSIWGGPIEDELNAALKHDARGVVSMAGNGPNtsrsqffityakhptldLKYTVFGRVIDGFDVLDELEKvkvDAKYRPVVEQKIQNviihanpiadmvtss', 'mswlwdwvsgmlnylgltkkngklvflgldnagkttllhmlkDDRMAQHVPTLHPTSEELSLGgirFTTFDLGGHEQARrvwkdyfpavdAIVFLVDCADVERIAESRHEleslLGDEQVASCPLLILGNKIDKPNALGEDQLKWHlgvtnlttgkGQISRMDISSRPMEVFMCSVLrrqgygegfrwlsqyld', 'mveqpqvrrfsqmfmerlRVFEDHPTVIHGEAQksviqsitpsyksiaekqvqkldfgsdmnlpeavgdykvketqdhfklkiidpkitsnasipahhreipriqrrnldfpsehskrsflklepmqqrklravetrpvttsayltesldrhrdmeasrlkdylkarendankpwdkpqwPGPKATKPNDQTLKElaeikktietlqkmnfcpkm', 'mdeklgravllyefrprealshvnvafglgsvpkstarcwfkkfakicysledwkwtgrpsnfnsqvskglmesdpsqaqeemamklhVSKQTISAHLKPLGSNwsssclgnmseiksiwkttsssvlnlknphfelplrkhchagnadgqatekqkkadiekvitermknwgrvhnlpewaqeriaksvvqederrkrraeleakkfqilkkatlrhaivigdkaaaeekvkaqlq']\n"
     ]
    }
   ],
   "source": [
    "from Bio import SeqIO\n",
    "fasta_file = '../data/epipred_data.fasta'\n",
    "sequences = []\n",
    "for record in SeqIO.parse(fasta_file, 'fasta'):\n",
    "    sequences.append(str(record.seq))\n",
    "\n",
    "print(sequences[:5])\n"
   ]
  },
  {
   "cell_type": "code",
   "execution_count": 2,
   "id": "3e91b5a2-cc6a-42bb-915e-7f7974995569",
   "metadata": {},
   "outputs": [],
   "source": [
    "# Initialize empty lists to hold sequences and labels\n",
    "epitope_sequences = []\n",
    "non_epitope_sequences = []\n",
    "\n",
    "# Iterate through the sequences from the FASTA file\n",
    "for seq in sequences:\n",
    "    # Check if the sequence is in uppercase (epitope region)\n",
    "    if seq.isupper():\n",
    "        epitope_sequences.append(seq)\n",
    "    else:\n",
    "        non_epitope_sequences.append(seq)\n",
    "\n",
    "# Now, let's create a dataset with labels\n",
    "data = []\n",
    "labels = []\n",
    "\n",
    "# Add epitope sequences with label 1\n",
    "for epitope in epitope_sequences:\n",
    "    data.append(epitope)\n",
    "    labels.append(1)\n",
    "\n",
    "# Add non-epitope sequences with label 0\n",
    "for non_epitope in non_epitope_sequences:\n",
    "    data.append(non_epitope)\n",
    "    labels.append(0)\n",
    "\n",
    "\n"
   ]
  },
  {
   "cell_type": "code",
   "execution_count": 3,
   "id": "b984e083-ac7d-4bb4-b19c-b6227c833394",
   "metadata": {},
   "outputs": [
    {
     "name": "stdout",
     "output_type": "stream",
     "text": [
      "['MDVFMKGLSKAKEGVVAAAEKTKQGVAEAAGKTKEGVLYVGSKTKEGVVHGVATVAEKTKEQVTNVGGAVVTGVTAVAQKTVEGAGSIAAATGFVKKDQLGKNEEGAPQEGILEDMPVDPDNEAYEMPSEEGYQDYEPEA', 'MDVFMKGLSMAKEGVVAAAEKTKQGVTEAAEKTKEGVLYVGSKTSGVVQGVASVAEKTKEQASHLGGAVFSGAGNIAAATGLVKKEEFPTDLKPEEVAQEAAEEPLIEPLMEPEGESYEDSPQEEYQEYEPEA', 'MAEDEDNQQGQGEGLKYLGFVQDAATYAVTTFSNVYLFAKDKSGPLQPGVDIIEGPVKNVAVPLYNRFSYIPNGALKFVDSTVVASVTIIDRSLPPIVKDASIQVVSAIRAAPEAARSLASSLPGQTKILAKVFYGEN', 'MQSEFFICVTFFFVLLHYISCNKPTRNISVKSNKDKDELNNIKEKLDLINNSIKDKVIENFKEDIELLKKKVDDLEKRKSDNTLGKRQKKEDDDDEEETDEDDDEDSDEDDEEQEELNVEPKEREDEQEETDDEQKETEDEQKETEDEQKETEDEQKETEDEQKETEDEQKESDDEQKETEDEQKETEDEASEEYSDNEEDDEEDEEDDEEENEENNDNETNEENEDNDENEDNDENEEEIEVTDVEFVGQSTNKNVRNNMIRNSNKDIKSSSQNSSIKAQNSSTKIGNTPTKLSTQNTKSNSTSNQLITQLQSEKSSSKVDNNKNNTNEIKYMDKLCDDVLTELKEKDNVDNNMNHSKYNNLKKEFSTFTMNQNECDLIKKLIITFSQENVEMKRDSIKEIFLKALDDKKYREVFKNFMYGVYSYAKRHNYLDIEKMEKNERAYKKLFENTLNLLDTI', 'MKFLVFLGIITTVAAFHQECSLQSCTQHQPYVVDDPCPIHFYSKWYIRVGARKSAPLIELCVDEAGSKSPIQYIDIGNYTVSCLPFTINCQEPKLGSLVVRCSFYEDFLEYHDVRVVLDFI']\n",
      "['mgkkqhQKDKLYLTTTEWKETYGGHKDDTGRrmqralfkrlpITHCSLSLLPFEDPVcsqdgiifdltqiipYLKKYGVNPVTGKKMAAKELIHLKFDKDSDGTDYLLSIGnfrcpvtfrvftptshivticQTGNVYSLEAIEELNLKPGHLKDlLTDEPFQRKDIIVLQDPNHLEKFNIEQFHHikldlktkseieaekkamKDPKFYIRRMNNETKEILKKLEKEYIPTKIEQIEEETVDELNAAHYSQGRvaagLTSTTMEPITHQKAAILDADTVKYARVNKNgyvriltnygainlelfckdapraCENFIKHCKNGYYNktkfhriirnFILQGGDPTGTGKGGDSIWGKPFKDEIISSLSHDQRgilsmaNQGTDTNKSQFfitfrscsyldgkHTIFGRVVGGTETLNAIEKIETDESSRPIASFQfpidviflnaeifvdPFEEAEIAVEKERENIRLAKTNQESETVVSApavitQIPKPKKYGSGVGKYINLPEVTAATKRTANDIAEFGTVKKTVQSNRIFGDFSSW', 'msvtLQTTLGDIKIELYCDLCPKTCENFLALcasgyydncIFHRNIKDFMVQTGDPTGTGKGGDSIWGGPIEDELNAALKHDARGVVSMAGNGPNtsrsqffityakhptldLKYTVFGRVIDGFDVLDELEKvkvDAKYRPVVEQKIQNviihanpiadmvtss', 'mswlwdwvsgmlnylgltkkngklvflgldnagkttllhmlkDDRMAQHVPTLHPTSEELSLGgirFTTFDLGGHEQARrvwkdyfpavdAIVFLVDCADVERIAESRHEleslLGDEQVASCPLLILGNKIDKPNALGEDQLKWHlgvtnlttgkGQISRMDISSRPMEVFMCSVLrrqgygegfrwlsqyld', 'mveqpqvrrfsqmfmerlRVFEDHPTVIHGEAQksviqsitpsyksiaekqvqkldfgsdmnlpeavgdykvketqdhfklkiidpkitsnasipahhreipriqrrnldfpsehskrsflklepmqqrklravetrpvttsayltesldrhrdmeasrlkdylkarendankpwdkpqwPGPKATKPNDQTLKElaeikktietlqkmnfcpkm', 'mdeklgravllyefrprealshvnvafglgsvpkstarcwfkkfakicysledwkwtgrpsnfnsqvskglmesdpsqaqeemamklhVSKQTISAHLKPLGSNwsssclgnmseiksiwkttsssvlnlknphfelplrkhchagnadgqatekqkkadiekvitermknwgrvhnlpewaqeriaksvvqederrkrraeleakkfqilkkatlrhaivigdkaaaeekvkaqlq']\n"
     ]
    }
   ],
   "source": [
    "print(epitope_sequences[:5])\n",
    "print(non_epitope_sequences[:5])"
   ]
  },
  {
   "cell_type": "code",
   "execution_count": 4,
   "id": "065d749e-4678-4308-a6a4-9b9bf7e1ecd0",
   "metadata": {},
   "outputs": [],
   "source": [
    "import numpy as np\n",
    "\n",
    "# Define the amino acids and their corresponding indices\n",
    "amino_acids = 'ACDEFGHIKLMNPQRSTVWY'\n",
    "amino_acid_dict = {aa: idx for idx, aa in enumerate(amino_acids)}\n",
    "\n",
    "# Function to one-hot encode a sequence\n",
    "def one_hot_encode_sequence(sequence):\n",
    "    # Initialize an empty matrix for the sequence\n",
    "    one_hot_matrix = np.zeros((len(sequence), len(amino_acids)))\n",
    "    \n",
    "    for idx, aa in enumerate(sequence):\n",
    "        if aa in amino_acid_dict:  # Ensure the amino acid is valid\n",
    "            one_hot_matrix[idx, amino_acid_dict[aa]] = 1\n",
    "    \n",
    "    return one_hot_matrix\n",
    "\n",
    "\n"
   ]
  },
  {
   "cell_type": "code",
   "execution_count": 5,
   "id": "f91b595d-e570-42c9-b8ab-9cf9bdbd22f7",
   "metadata": {},
   "outputs": [],
   "source": [
    "# Combine and label\n",
    "X = []\n",
    "y = []\n",
    "\n",
    "for seq in epitope_sequences:\n",
    "    encoded = one_hot_encode_sequence(seq)\n",
    "    X.append(encoded.flatten())  # flatten to 1D\n",
    "    y.append(1)\n",
    "\n",
    "for seq in non_epitope_sequences:\n",
    "    encoded = one_hot_encode_sequence(seq)\n",
    "    X.append(encoded.flatten())\n",
    "    y.append(0)"
   ]
  },
  {
   "cell_type": "code",
   "execution_count": 6,
   "id": "79c25f37-2dc0-4d16-859f-8182f2db2fd8",
   "metadata": {},
   "outputs": [],
   "source": [
    "# Convert to numpy arrays\n",
    "X = np.array(X, dtype=object)  # Use object type because sequences may be of different lengths\n",
    "y = np.array(y)\n"
   ]
  },
  {
   "cell_type": "code",
   "execution_count": 7,
   "id": "c2440c34-7ea8-48e6-a787-e308ba097cac",
   "metadata": {},
   "outputs": [],
   "source": [
    "# Save X (features) and y (labels) as numpy files\n",
    "np.save('../data/X_featurized.npy', X)\n",
    "np.save('../data/y_labels.npy', y)\n"
   ]
  },
  {
   "cell_type": "code",
   "execution_count": 8,
   "id": "87ba92ad-f36c-4611-8926-12ba5a4ad339",
   "metadata": {},
   "outputs": [
    {
     "name": "stdout",
     "output_type": "stream",
     "text": [
      "X shape: (3560,)\n",
      "y shape: (3560,)\n",
      "First feature vector length: 2800\n",
      "First label: 1\n"
     ]
    }
   ],
   "source": [
    "# Load the saved files when needed\n",
    "X = np.load('../data/X_featurized.npy', allow_pickle=True)\n",
    "y = np.load('../data/y_labels.npy')\n",
    "\n",
    "print(f\"X shape: {X.shape}\")\n",
    "print(f\"y shape: {y.shape}\")\n",
    "print(f\"First feature vector length: {len(X[0])}\")\n",
    "print(f\"First label: {y[0]}\")\n"
   ]
  },
  {
   "cell_type": "code",
   "execution_count": 9,
   "id": "bc2c9569-2d03-4351-b55b-9de330f242bc",
   "metadata": {},
   "outputs": [
    {
     "name": "stdout",
     "output_type": "stream",
     "text": [
      "Label distribution:\n",
      "Label 0: 3522 sequences\n",
      "Label 1: 38 sequences\n"
     ]
    },
    {
     "data": {
      "image/png": "[encoded data removed]",
      "text/plain": [
       "<Figure size 500x500 with 1 Axes>"
      ]
     },
     "metadata": {},
     "output_type": "display_data"
    }
   ],
   "source": [
    "import numpy as np\n",
    "import matplotlib.pyplot as plt\n",
    "\n",
    "# Load labels\n",
    "y = np.load('../data/y_labels.npy', allow_pickle=True)\n",
    "\n",
    "# Count occurrences\n",
    "unique, counts = np.unique(y, return_counts=True)\n",
    "label_counts = dict(zip(unique, counts))\n",
    "\n",
    "print(\"Label distribution:\")\n",
    "for label, count in label_counts.items():\n",
    "    print(f\"Label {int(label)}: {count} sequences\")\n",
    "\n",
    "# Optional: pie chart\n",
    "plt.figure(figsize=(5, 5))\n",
    "plt.pie(counts, labels=[f\"Non-epitope ({counts[0]})\", f\"Epitope ({counts[1]})\"],\n",
    "        autopct='%1.1f%%', colors=['skyblue', 'salmon'], startangle=140)\n",
    "plt.title(\"Epitope vs Non-epitope Distribution\")\n",
    "plt.show()\n"
   ]
  },
  {
   "cell_type": "code",
   "execution_count": 10,
   "id": "9e501e7f-c635-4b87-9803-fd0eb111e71e",
   "metadata": {},
   "outputs": [
    {
     "name": "stdout",
     "output_type": "stream",
     "text": [
      "Training set size: 2848\n",
      "Test set size: 712\n"
     ]
    }
   ],
   "source": [
    "from sklearn.model_selection import train_test_split\n",
    "\n",
    "X_train, X_test, y_train, y_test = train_test_split(X, y, test_size=0.2, random_state=42)\n",
    "\n",
    "print(f\"Training set size: {len(X_train)}\")\n",
    "print(f\"Test set size: {len(X_test)}\")\n"
   ]
  },
  {
   "cell_type": "code",
   "execution_count": 11,
   "id": "b3f65d28-0b34-4c5a-ab13-b8bf95c87ac8",
   "metadata": {},
   "outputs": [
    {
     "name": "stdout",
     "output_type": "stream",
     "text": [
      "Shape of X: (3560,)\n"
     ]
    }
   ],
   "source": [
    "print(f\"Shape of X: {X.shape}\")\n"
   ]
  },
  {
   "cell_type": "code",
   "execution_count": 12,
   "id": "c4b02a86-ac20-4baf-974d-384103879956",
   "metadata": {},
   "outputs": [
    {
     "name": "stdout",
     "output_type": "stream",
     "text": [
      "Maximum sequence length: 687000\n",
      "Minimum sequence length: 80\n",
      "Average sequence length: 13889.342696629214\n"
     ]
    }
   ],
   "source": [
    "# Check the length of each sequence\n",
    "sequence_lengths = [len(seq) for seq in X]\n",
    "\n",
    "print(f\"Maximum sequence length: {max(sequence_lengths)}\")\n",
    "print(f\"Minimum sequence length: {min(sequence_lengths)}\")\n",
    "print(f\"Average sequence length: {np.mean(sequence_lengths)}\")\n"
   ]
  },
  {
   "cell_type": "code",
   "execution_count": 14,
   "id": "f90d44e8-45dd-4f65-b0eb-310f1a2d07ee",
   "metadata": {},
   "outputs": [
    {
     "data": {
      "image/png": "[encoded data removed]",
      "text/plain": [
       "<Figure size 640x480 with 1 Axes>"
      ]
     },
     "metadata": {},
     "output_type": "display_data"
    }
   ],
   "source": [
    "lengths = [len(seq) for seq in X]\n",
    "\n",
    "import matplotlib.pyplot as plt\n",
    "plt.hist(lengths, bins=50)\n",
    "plt.xlabel(\"Feature vector length\")\n",
    "plt.ylabel(\"Count\")\n",
    "plt.title(\"Distribution of sequence lengths\")\n",
    "plt.show()\n"
   ]
  },
  {
   "cell_type": "code",
   "execution_count": 15,
   "id": "51103135-8df6-4d9d-9e40-a88f0410f371",
   "metadata": {},
   "outputs": [],
   "source": [
    "def pad_sequences_custom(sequences, maxlen, padding_value=0):\n",
    "    padded_sequences = np.full((len(sequences), maxlen), padding_value, dtype=np.float32)\n",
    "    \n",
    "    for i, seq in enumerate(sequences):\n",
    "        length = min(len(seq), maxlen)\n",
    "        padded_sequences[i, :length] = seq[:length]  # truncate if too long\n",
    "        \n",
    "    return padded_sequences\n",
    "\n",
    "# Let’s cap to 4096 for example:\n",
    "X_padded_custom = pad_sequences_custom(X, maxlen=4096)\n"
   ]
  },
  {
   "cell_type": "code",
   "execution_count": 32,
   "id": "f3442d9e-365a-41f7-a8e6-5423d8e019f6",
   "metadata": {},
   "outputs": [
    {
     "data": {
      "text/html": [
       "<style>#sk-container-id-4 {color: black;background-color: white;}#sk-container-id-4 pre{padding: 0;}#sk-container-id-4 div.sk-toggleable {background-color: white;}#sk-container-id-4 label.sk-toggleable__label {cursor: pointer;display: block;width: 100%;margin-bottom: 0;padding: 0.3em;box-sizing: border-box;text-align: center;}#sk-container-id-4 label.sk-toggleable__label-arrow:before {content: \"▸\";float: left;margin-right: 0.25em;color: #696969;}#sk-container-id-4 label.sk-toggleable__label-arrow:hover:before {color: black;}#sk-container-id-4 div.sk-estimator:hover label.sk-toggleable__label-arrow:before {color: black;}#sk-container-id-4 div.sk-toggleable__content {max-height: 0;max-width: 0;overflow: hidden;text-align: left;background-color: #f0f8ff;}#sk-container-id-4 div.sk-toggleable__content pre {margin: 0.2em;color: black;border-radius: 0.25em;background-color: #f0f8ff;}#sk-container-id-4 input.sk-toggleable__control:checked~div.sk-toggleable__content {max-height: 200px;max-width: 100%;overflow: auto;}#sk-container-id-4 input.sk-toggleable__control:checked~label.sk-toggleable__label-arrow:before {content: \"▾\";}#sk-container-id-4 div.sk-estimator input.sk-toggleable__control:checked~label.sk-toggleable__label {background-color: #d4ebff;}#sk-container-id-4 div.sk-label input.sk-toggleable__control:checked~label.sk-toggleable__label {background-color: #d4ebff;}#sk-container-id-4 input.sk-hidden--visually {border: 0;clip: rect(1px 1px 1px 1px);clip: rect(1px, 1px, 1px, 1px);height: 1px;margin: -1px;overflow: hidden;padding: 0;position: absolute;width: 1px;}#sk-container-id-4 div.sk-estimator {font-family: monospace;background-color: #f0f8ff;border: 1px dotted black;border-radius: 0.25em;box-sizing: border-box;margin-bottom: 0.5em;}#sk-container-id-4 div.sk-estimator:hover {background-color: #d4ebff;}#sk-container-id-4 div.sk-parallel-item::after {content: \"\";width: 100%;border-bottom: 1px solid gray;flex-grow: 1;}#sk-container-id-4 div.sk-label:hover label.sk-toggleable__label {background-color: #d4ebff;}#sk-container-id-4 div.sk-serial::before {content: \"\";position: absolute;border-left: 1px solid gray;box-sizing: border-box;top: 0;bottom: 0;left: 50%;z-index: 0;}#sk-container-id-4 div.sk-serial {display: flex;flex-direction: column;align-items: center;background-color: white;padding-right: 0.2em;padding-left: 0.2em;position: relative;}#sk-container-id-4 div.sk-item {position: relative;z-index: 1;}#sk-container-id-4 div.sk-parallel {display: flex;align-items: stretch;justify-content: center;background-color: white;position: relative;}#sk-container-id-4 div.sk-item::before, #sk-container-id-4 div.sk-parallel-item::before {content: \"\";position: absolute;border-left: 1px solid gray;box-sizing: border-box;top: 0;bottom: 0;left: 50%;z-index: -1;}#sk-container-id-4 div.sk-parallel-item {display: flex;flex-direction: column;z-index: 1;position: relative;background-color: white;}#sk-container-id-4 div.sk-parallel-item:first-child::after {align-self: flex-end;width: 50%;}#sk-container-id-4 div.sk-parallel-item:last-child::after {align-self: flex-start;width: 50%;}#sk-container-id-4 div.sk-parallel-item:only-child::after {width: 0;}#sk-container-id-4 div.sk-dashed-wrapped {border: 1px dashed gray;margin: 0 0.4em 0.5em 0.4em;box-sizing: border-box;padding-bottom: 0.4em;background-color: white;}#sk-container-id-4 div.sk-label label {font-family: monospace;font-weight: bold;display: inline-block;line-height: 1.2em;}#sk-container-id-4 div.sk-label-container {text-align: center;}#sk-container-id-4 div.sk-container {/* jupyter's `normalize.less` sets `[hidden] { display: none; }` but bootstrap.min.css set `[hidden] { display: none !important; }` so we also need the `!important` here to be able to override the default hidden behavior on the sphinx rendered scikit-learn.org. See: https://github.com/scikit-learn/scikit-learn/issues/21755 */display: inline-block !important;position: relative;}#sk-container-id-4 div.sk-text-repr-fallback {display: none;}</style><div id=\"sk-container-id-4\" class=\"sk-top-container\"><div class=\"sk-text-repr-fallback\"><pre>XGBClassifier(base_score=None, booster=None, callbacks=None,\n",
       "              colsample_bylevel=None, colsample_bynode=None,\n",
       "              colsample_bytree=None, device=None, early_stopping_rounds=None,\n",
       "              enable_categorical=False, eval_metric=None, feature_types=None,\n",
       "              feature_weights=None, gamma=None, grow_policy=None,\n",
       "              importance_type=None, interaction_constraints=None,\n",
       "              learning_rate=None, max_bin=None, max_cat_threshold=None,\n",
       "              max_cat_to_onehot=None, max_delta_step=None, max_depth=None,\n",
       "              max_leaves=None, min_child_weight=None, missing=nan,\n",
       "              monotone_constraints=None, multi_strategy=None, n_estimators=None,\n",
       "              n_jobs=None, num_parallel_tree=None, ...)</pre><b>In a Jupyter environment, please rerun this cell to show the HTML representation or trust the notebook. <br />On GitHub, the HTML representation is unable to render, please try loading this page with nbviewer.org.</b></div><div class=\"sk-container\" hidden><div class=\"sk-item\"><div class=\"sk-estimator sk-toggleable\"><input class=\"sk-toggleable__control sk-hidden--visually\" id=\"sk-estimator-id-4\" type=\"checkbox\" checked><label for=\"sk-estimator-id-4\" class=\"sk-toggleable__label sk-toggleable__label-arrow\">XGBClassifier</label><div class=\"sk-toggleable__content\"><pre>XGBClassifier(base_score=None, booster=None, callbacks=None,\n",
       "              colsample_bylevel=None, colsample_bynode=None,\n",
       "              colsample_bytree=None, device=None, early_stopping_rounds=None,\n",
       "              enable_categorical=False, eval_metric=None, feature_types=None,\n",
       "              feature_weights=None, gamma=None, grow_policy=None,\n",
       "              importance_type=None, interaction_constraints=None,\n",
       "              learning_rate=None, max_bin=None, max_cat_threshold=None,\n",
       "              max_cat_to_onehot=None, max_delta_step=None, max_depth=None,\n",
       "              max_leaves=None, min_child_weight=None, missing=nan,\n",
       "              monotone_constraints=None, multi_strategy=None, n_estimators=None,\n",
       "              n_jobs=None, num_parallel_tree=None, ...)</pre></div></div></div></div></div>"
      ],
      "text/plain": [
       "XGBClassifier(base_score=None, booster=None, callbacks=None,\n",
       "              colsample_bylevel=None, colsample_bynode=None,\n",
       "              colsample_bytree=None, device=None, early_stopping_rounds=None,\n",
       "              enable_categorical=False, eval_metric=None, feature_types=None,\n",
       "              feature_weights=None, gamma=None, grow_policy=None,\n",
       "              importance_type=None, interaction_constraints=None,\n",
       "              learning_rate=None, max_bin=None, max_cat_threshold=None,\n",
       "              max_cat_to_onehot=None, max_delta_step=None, max_depth=None,\n",
       "              max_leaves=None, min_child_weight=None, missing=nan,\n",
       "              monotone_constraints=None, multi_strategy=None, n_estimators=None,\n",
       "              n_jobs=None, num_parallel_tree=None, ...)"
      ]
     },
     "execution_count": 32,
     "metadata": {},
     "output_type": "execute_result"
    }
   ],
   "source": [
    "from sklearn.model_selection import train_test_split\n",
    "import xgboost as xgb\n",
    "# from sklearn.ensemble import RandomForestClassifier\n",
    "from imblearn.over_sampling import SMOTE\n",
    "\n",
    "# 1. Split your data (do not apply SMOTE yet)\n",
    "X_train, X_test, y_train, y_test = train_test_split(X_padded_custom, y, test_size=0.2, random_state=42, stratify=y)\n",
    "\n",
    "# 2. Handle imbalance using SMOTE on training data\n",
    "smote = SMOTE(k_neighbors=3, random_state=42)\n",
    "X_train_res, y_train_res = smote.fit_resample(X_train, y_train)\n",
    "\n",
    "# 3. Train the model on the resampled (balanced) training data\n",
    "model = xgb.XGBClassifier(scale_pos_weight=len(y) / (2 * np.bincount(y)[1]))\n",
    "# model = RandomForestClassifier(class_weight='balanced', random_state=42)\n",
    "model.fit(X_train_res, y_train_res)\n",
    "\n"
   ]
  },
  {
   "cell_type": "code",
   "execution_count": 33,
   "id": "ea748e8e-d70c-4dd1-a5f9-e05fe4b8d943",
   "metadata": {},
   "outputs": [],
   "source": [
    "y_pred = model.predict(X_test)\n"
   ]
  },
  {
   "cell_type": "code",
   "execution_count": 34,
   "id": "4d091887-28b1-4e1f-8c92-c58f1f1c1f7c",
   "metadata": {},
   "outputs": [],
   "source": [
    "# For AUROC, use predicted probabilities\n",
    "y_prob = model.predict_proba(X_test)[:, 1]  # Probabilities for class 1 (epitope)\n"
   ]
  },
  {
   "cell_type": "code",
   "execution_count": 36,
   "id": "153cd11e-c1b2-44bb-aeee-be6220802548",
   "metadata": {},
   "outputs": [
    {
     "name": "stdout",
     "output_type": "stream",
     "text": [
      "Accuracy: 0.9860\n",
      "Precision: 0.2500\n",
      "Recall: 0.1250\n",
      "F1-score: 0.1667\n",
      "AUROC: 0.9664\n",
      "\n",
      "Classification Report:\n",
      "\n",
      "              precision    recall  f1-score   support\n",
      "\n",
      "           0       0.99      1.00      0.99       704\n",
      "           1       0.25      0.12      0.17         8\n",
      "\n",
      "    accuracy                           0.99       712\n",
      "   macro avg       0.62      0.56      0.58       712\n",
      "weighted avg       0.98      0.99      0.98       712\n",
      "\n"
     ]
    }
   ],
   "source": [
    "from sklearn.metrics import accuracy_score, precision_score, recall_score, f1_score, roc_auc_score, classification_report\n",
    "\n",
    "# Accuracy\n",
    "accuracy = accuracy_score(y_test, y_pred)\n",
    "\n",
    "# Precision, Recall, F1 Score\n",
    "precision = precision_score(y_test, y_pred)\n",
    "recall = recall_score(y_test, y_pred)\n",
    "f1 = f1_score(y_test, y_pred)\n",
    "\n",
    "# AUROC\n",
    "auroc = roc_auc_score(y_test, y_prob)\n",
    "\n",
    "# Print results\n",
    "print(f\"Accuracy: {accuracy:.4f}\")\n",
    "print(f\"Precision: {precision:.4f}\")\n",
    "print(f\"Recall: {recall:.4f}\")\n",
    "print(f\"F1-score: {f1:.4f}\")\n",
    "print(f\"AUROC: {auroc:.4f}\")\n",
    "\n",
    "# Classification report for more details\n",
    "print(\"\\nClassification Report:\\n\")\n",
    "print(classification_report(y_test, y_pred))\n"
   ]
  },
  {
   "cell_type": "code",
   "execution_count": 38,
   "id": "0bb84035-89ab-478e-bd28-b3a073a9d51b",
   "metadata": {},
   "outputs": [
    {
     "data": {
      "text/plain": [
       "['../model/epitope_model.joblib']"
      ]
     },
     "execution_count": 38,
     "metadata": {},
     "output_type": "execute_result"
    }
   ],
   "source": [
    "import joblib\n",
    "\n",
    "# Save the trained XGBoost model\n",
    "joblib.dump(model, '../model/epitope_model.joblib')\n",
    "\n"
   ]
  },
  {
   "cell_type": "code",
   "execution_count": 39,
   "id": "118563b9-7b8c-40dd-b292-5016100e0758",
   "metadata": {},
   "outputs": [
    {
     "data": {
      "text/plain": [
       "['../model/epitope_model.pkl']"
      ]
     },
     "execution_count": 39,
     "metadata": {},
     "output_type": "execute_result"
    }
   ],
   "source": [
    "import joblib\n",
    "joblib.dump(model, \"../model/epitope_model.pkl\")"
   ]
  },
  {
   "cell_type": "code",
   "execution_count": null,
   "id": "c0500d9e-7c43-442e-8599-b0fa63442a19",
   "metadata": {},
   "outputs": [],
   "source": []
  }
 ],
 "metadata": {
  "kernelspec": {
   "display_name": "Python 3 (ipykernel)",
   "language": "python",
   "name": "python3"
  },
  "language_info": {
   "codemirror_mode": {
    "name": "ipython",
    "version": 3
   },
   "file_extension": ".py",
   "mimetype": "text/x-python",
   "name": "python",
   "nbconvert_exporter": "python",
   "pygments_lexer": "ipython3",
   "version": "3.12.9"
  }
 },
 "nbformat": 4,
 "nbformat_minor": 5
}

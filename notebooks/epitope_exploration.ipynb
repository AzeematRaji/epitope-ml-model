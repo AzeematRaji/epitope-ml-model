{
 "cells": [
  {
   "cell_type": "code",
   "execution_count": 1,
   "id": "4a579974-05ee-4c09-a2ae-a93921913b31",
   "metadata": {},
   "outputs": [
    {
     "name": "stdout",
     "output_type": "stream",
     "text": [
      "Download complete!\n"
     ]
    }
   ],
   "source": [
    "import requests\n",
    "url = 'https://services.healthtech.dtu.dk/services/BepiPred-3.0/Data/IEDB/IEDBSeqsNotSharedAt20ID.fasta'\n",
    "response = requests.get(url)\n",
    "with open('../data/epipred_data.fasta', 'wb') as file:\n",
    "    file.write(response.content)\n",
    "print('Download complete!')"
   ]
  },
  {
   "cell_type": "code",
   "execution_count": 2,
   "id": "55bc9d65-ce07-44a9-919d-ba137f787ddf",
   "metadata": {},
   "outputs": [
    {
     "name": "stdout",
     "output_type": "stream",
     "text": [
      "['mgkkqhQKDKLYLTTTEWKETYGGHKDDTGRrmqralfkrlpITHCSLSLLPFEDPVcsqdgiifdltqiipYLKKYGVNPVTGKKMAAKELIHLKFDKDSDGTDYLLSIGnfrcpvtfrvftptshivticQTGNVYSLEAIEELNLKPGHLKDlLTDEPFQRKDIIVLQDPNHLEKFNIEQFHHikldlktkseieaekkamKDPKFYIRRMNNETKEILKKLEKEYIPTKIEQIEEETVDELNAAHYSQGRvaagLTSTTMEPITHQKAAILDADTVKYARVNKNgyvriltnygainlelfckdapraCENFIKHCKNGYYNktkfhriirnFILQGGDPTGTGKGGDSIWGKPFKDEIISSLSHDQRgilsmaNQGTDTNKSQFfitfrscsyldgkHTIFGRVVGGTETLNAIEKIETDESSRPIASFQfpidviflnaeifvdPFEEAEIAVEKERENIRLAKTNQESETVVSApavitQIPKPKKYGSGVGKYINLPEVTAATKRTANDIAEFGTVKKTVQSNRIFGDFSSW', 'msvtLQTTLGDIKIELYCDLCPKTCENFLALcasgyydncIFHRNIKDFMVQTGDPTGTGKGGDSIWGGPIEDELNAALKHDARGVVSMAGNGPNtsrsqffityakhptldLKYTVFGRVIDGFDVLDELEKvkvDAKYRPVVEQKIQNviihanpiadmvtss', 'mswlwdwvsgmlnylgltkkngklvflgldnagkttllhmlkDDRMAQHVPTLHPTSEELSLGgirFTTFDLGGHEQARrvwkdyfpavdAIVFLVDCADVERIAESRHEleslLGDEQVASCPLLILGNKIDKPNALGEDQLKWHlgvtnlttgkGQISRMDISSRPMEVFMCSVLrrqgygegfrwlsqyld', 'mveqpqvrrfsqmfmerlRVFEDHPTVIHGEAQksviqsitpsyksiaekqvqkldfgsdmnlpeavgdykvketqdhfklkiidpkitsnasipahhreipriqrrnldfpsehskrsflklepmqqrklravetrpvttsayltesldrhrdmeasrlkdylkarendankpwdkpqwPGPKATKPNDQTLKElaeikktietlqkmnfcpkm', 'mdeklgravllyefrprealshvnvafglgsvpkstarcwfkkfakicysledwkwtgrpsnfnsqvskglmesdpsqaqeemamklhVSKQTISAHLKPLGSNwsssclgnmseiksiwkttsssvlnlknphfelplrkhchagnadgqatekqkkadiekvitermknwgrvhnlpewaqeriaksvvqederrkrraeleakkfqilkkatlrhaivigdkaaaeekvkaqlq']\n"
     ]
    }
   ],
   "source": [
    "from Bio import SeqIO\n",
    "fasta_file = '../data/epipred_data.fasta'\n",
    "sequences = []\n",
    "for record in SeqIO.parse(fasta_file, 'fasta'):\n",
    "    sequences.append(str(record.seq))\n",
    "\n",
    "print(sequences[:5])\n"
   ]
  },
  {
   "cell_type": "code",
   "execution_count": 3,
   "id": "3e91b5a2-cc6a-42bb-915e-7f7974995569",
   "metadata": {},
   "outputs": [],
   "source": [
    "# Initialize empty lists to hold sequences and labels\n",
    "epitope_sequences = []\n",
    "non_epitope_sequences = []\n",
    "\n",
    "# Iterate through the sequences from the FASTA file\n",
    "for seq in sequences:\n",
    "    # Check if the sequence is in uppercase (epitope region)\n",
    "    if seq.isupper():\n",
    "        epitope_sequences.append(seq)\n",
    "    else:\n",
    "        non_epitope_sequences.append(seq)\n",
    "\n",
    "# Now, let's create a dataset with labels\n",
    "data = []\n",
    "labels = []\n",
    "\n",
    "# Add epitope sequences with label 1\n",
    "for epitope in epitope_sequences:\n",
    "    data.append(epitope)\n",
    "    labels.append(1)\n",
    "\n",
    "# Add non-epitope sequences with label 0\n",
    "for non_epitope in non_epitope_sequences:\n",
    "    data.append(non_epitope)\n",
    "    labels.append(0)\n",
    "\n",
    "\n"
   ]
  },
  {
   "cell_type": "code",
   "execution_count": 4,
   "id": "b984e083-ac7d-4bb4-b19c-b6227c833394",
   "metadata": {},
   "outputs": [
    {
     "name": "stdout",
     "output_type": "stream",
     "text": [
      "['MDVFMKGLSKAKEGVVAAAEKTKQGVAEAAGKTKEGVLYVGSKTKEGVVHGVATVAEKTKEQVTNVGGAVVTGVTAVAQKTVEGAGSIAAATGFVKKDQLGKNEEGAPQEGILEDMPVDPDNEAYEMPSEEGYQDYEPEA', 'MDVFMKGLSMAKEGVVAAAEKTKQGVTEAAEKTKEGVLYVGSKTSGVVQGVASVAEKTKEQASHLGGAVFSGAGNIAAATGLVKKEEFPTDLKPEEVAQEAAEEPLIEPLMEPEGESYEDSPQEEYQEYEPEA', 'MAEDEDNQQGQGEGLKYLGFVQDAATYAVTTFSNVYLFAKDKSGPLQPGVDIIEGPVKNVAVPLYNRFSYIPNGALKFVDSTVVASVTIIDRSLPPIVKDASIQVVSAIRAAPEAARSLASSLPGQTKILAKVFYGEN', 'MQSEFFICVTFFFVLLHYISCNKPTRNISVKSNKDKDELNNIKEKLDLINNSIKDKVIENFKEDIELLKKKVDDLEKRKSDNTLGKRQKKEDDDDEEETDEDDDEDSDEDDEEQEELNVEPKEREDEQEETDDEQKETEDEQKETEDEQKETEDEQKETEDEQKETEDEQKESDDEQKETEDEQKETEDEASEEYSDNEEDDEEDEEDDEEENEENNDNETNEENEDNDENEDNDENEEEIEVTDVEFVGQSTNKNVRNNMIRNSNKDIKSSSQNSSIKAQNSSTKIGNTPTKLSTQNTKSNSTSNQLITQLQSEKSSSKVDNNKNNTNEIKYMDKLCDDVLTELKEKDNVDNNMNHSKYNNLKKEFSTFTMNQNECDLIKKLIITFSQENVEMKRDSIKEIFLKALDDKKYREVFKNFMYGVYSYAKRHNYLDIEKMEKNERAYKKLFENTLNLLDTI', 'MKFLVFLGIITTVAAFHQECSLQSCTQHQPYVVDDPCPIHFYSKWYIRVGARKSAPLIELCVDEAGSKSPIQYIDIGNYTVSCLPFTINCQEPKLGSLVVRCSFYEDFLEYHDVRVVLDFI']\n",
      "['mgkkqhQKDKLYLTTTEWKETYGGHKDDTGRrmqralfkrlpITHCSLSLLPFEDPVcsqdgiifdltqiipYLKKYGVNPVTGKKMAAKELIHLKFDKDSDGTDYLLSIGnfrcpvtfrvftptshivticQTGNVYSLEAIEELNLKPGHLKDlLTDEPFQRKDIIVLQDPNHLEKFNIEQFHHikldlktkseieaekkamKDPKFYIRRMNNETKEILKKLEKEYIPTKIEQIEEETVDELNAAHYSQGRvaagLTSTTMEPITHQKAAILDADTVKYARVNKNgyvriltnygainlelfckdapraCENFIKHCKNGYYNktkfhriirnFILQGGDPTGTGKGGDSIWGKPFKDEIISSLSHDQRgilsmaNQGTDTNKSQFfitfrscsyldgkHTIFGRVVGGTETLNAIEKIETDESSRPIASFQfpidviflnaeifvdPFEEAEIAVEKERENIRLAKTNQESETVVSApavitQIPKPKKYGSGVGKYINLPEVTAATKRTANDIAEFGTVKKTVQSNRIFGDFSSW', 'msvtLQTTLGDIKIELYCDLCPKTCENFLALcasgyydncIFHRNIKDFMVQTGDPTGTGKGGDSIWGGPIEDELNAALKHDARGVVSMAGNGPNtsrsqffityakhptldLKYTVFGRVIDGFDVLDELEKvkvDAKYRPVVEQKIQNviihanpiadmvtss', 'mswlwdwvsgmlnylgltkkngklvflgldnagkttllhmlkDDRMAQHVPTLHPTSEELSLGgirFTTFDLGGHEQARrvwkdyfpavdAIVFLVDCADVERIAESRHEleslLGDEQVASCPLLILGNKIDKPNALGEDQLKWHlgvtnlttgkGQISRMDISSRPMEVFMCSVLrrqgygegfrwlsqyld', 'mveqpqvrrfsqmfmerlRVFEDHPTVIHGEAQksviqsitpsyksiaekqvqkldfgsdmnlpeavgdykvketqdhfklkiidpkitsnasipahhreipriqrrnldfpsehskrsflklepmqqrklravetrpvttsayltesldrhrdmeasrlkdylkarendankpwdkpqwPGPKATKPNDQTLKElaeikktietlqkmnfcpkm', 'mdeklgravllyefrprealshvnvafglgsvpkstarcwfkkfakicysledwkwtgrpsnfnsqvskglmesdpsqaqeemamklhVSKQTISAHLKPLGSNwsssclgnmseiksiwkttsssvlnlknphfelplrkhchagnadgqatekqkkadiekvitermknwgrvhnlpewaqeriaksvvqederrkrraeleakkfqilkkatlrhaivigdkaaaeekvkaqlq']\n"
     ]
    }
   ],
   "source": [
    "print(epitope_sequences[:5])\n",
    "print(non_epitope_sequences[:5])"
   ]
  },
  {
   "cell_type": "code",
   "execution_count": 5,
   "id": "065d749e-4678-4308-a6a4-9b9bf7e1ecd0",
   "metadata": {},
   "outputs": [
    {
     "name": "stdout",
     "output_type": "stream",
     "text": [
      "One-hot encoded sequence:\n",
      " [[0. 0. 0. ... 0. 0. 0.]\n",
      " [0. 0. 1. ... 0. 0. 0.]\n",
      " [0. 0. 0. ... 1. 0. 0.]\n",
      " ...\n",
      " [0. 0. 0. ... 0. 0. 0.]\n",
      " [0. 0. 0. ... 0. 0. 0.]\n",
      " [1. 0. 0. ... 0. 0. 0.]]\n"
     ]
    }
   ],
   "source": [
    "import numpy as np\n",
    "\n",
    "# Define the amino acids and their corresponding indices\n",
    "amino_acids = 'ACDEFGHIKLMNPQRSTVWY'\n",
    "amino_acid_dict = {aa: idx for idx, aa in enumerate(amino_acids)}\n",
    "\n",
    "# Function to one-hot encode a sequence\n",
    "def one_hot_encode_sequence(sequence):\n",
    "    # Initialize an empty matrix for the sequence\n",
    "    one_hot_matrix = np.zeros((len(sequence), len(amino_acids)))\n",
    "    \n",
    "    for idx, aa in enumerate(sequence):\n",
    "        if aa in amino_acid_dict:  # Ensure the amino acid is valid\n",
    "            one_hot_matrix[idx, amino_acid_dict[aa]] = 1\n",
    "    \n",
    "    return one_hot_matrix\n",
    "\n",
    "# Example of one-hot encoding a sequence\n",
    "example_sequence = 'MDVFMKGLSKAKEGVVAAAEKTKQGVAEAAGKTKEGVLYVGSKTKEGVVHGVATVAEKTKEQVTNVGGAVVTGVTAVAQKTVEGAGSIAAATGFVKKDQLGKNEEGAPQEGILEDMPVDPDNEAYEMPSEEGYQDYEPEA'\n",
    "one_hot_encoded = one_hot_encode_sequence(example_sequence)\n",
    "\n",
    "print(\"One-hot encoded sequence:\\n\", one_hot_encoded)\n"
   ]
  },
  {
   "cell_type": "code",
   "execution_count": 6,
   "id": "f91b595d-e570-42c9-b8ab-9cf9bdbd22f7",
   "metadata": {},
   "outputs": [
    {
     "name": "stdout",
     "output_type": "stream",
     "text": [
      "Flattened one-hot encoded sequence:\n",
      " [0. 0. 0. ... 0. 0. 0.]\n",
      "Shape of flattened sequence: (2800,)\n"
     ]
    }
   ],
   "source": [
    "# Flatten the one-hot encoded sequence to a 1D vector\n",
    "def flatten_sequence(one_hot_matrix):\n",
    "    return one_hot_matrix.flatten()\n",
    "\n",
    "# Example: Flatten the one-hot encoded sequence\n",
    "flattened_sequence = flatten_sequence(one_hot_encoded)\n",
    "\n",
    "print(\"Flattened one-hot encoded sequence:\\n\", flattened_sequence)\n",
    "print(\"Shape of flattened sequence:\", flattened_sequence.shape)\n"
   ]
  },
  {
   "cell_type": "code",
   "execution_count": 9,
   "id": "79c25f37-2dc0-4d16-859f-8182f2db2fd8",
   "metadata": {},
   "outputs": [
    {
     "name": "stdout",
     "output_type": "stream",
     "text": [
      "Feature matrix (X):\n",
      " [[0. 0. 0. ... 0. 0. 0.]\n",
      " [0. 0. 0. ... 0. 0. 0.]\n",
      " [0. 0. 0. ... 0. 1. 0.]\n",
      " [0. 0. 0. ... 0. 0. 0.]]\n",
      "Labels (y):\n",
      " [1 1 0 0]\n",
      "Shape of X: (4, 10800)\n",
      "Shape of y: (4,)\n"
     ]
    }
   ],
   "source": [
    "import numpy as np\n",
    "\n",
    "# Function to one-hot encode a sequence\n",
    "def one_hot_encode_sequence(sequence):\n",
    "    amino_acids = 'ACDEFGHIKLMNPQRSTVWY'\n",
    "    amino_acid_dict = {aa: idx for idx, aa in enumerate(amino_acids)}\n",
    "    encoded = np.zeros((len(sequence), len(amino_acids)))\n",
    "    for i, aa in enumerate(sequence):\n",
    "        if aa in amino_acid_dict:\n",
    "            encoded[i, amino_acid_dict[aa]] = 1\n",
    "    return encoded\n",
    "\n",
    "# Function to pad sequences to a fixed length\n",
    "def pad_sequence(sequence, max_length):\n",
    "    padding = np.zeros((max_length - sequence.shape[0], sequence.shape[1]))  # Create padding\n",
    "    return np.vstack([sequence, padding])  # Add padding at the bottom\n",
    "\n",
    "# Function to flatten the encoded sequence\n",
    "def flatten_sequence(encoded_sequence):\n",
    "    return encoded_sequence.flatten()\n",
    "\n",
    "# Set the max sequence length based on the longest sequence in the dataset\n",
    "max_seq_length = max(len(seq) for seq in epitope_sequences + non_epitope_sequences)\n",
    "\n",
    "# Create feature matrix and labels (1 for epitope, 0 for non-epitope)\n",
    "X = []\n",
    "y = []\n",
    "\n",
    "# Process epitope sequences\n",
    "for seq in epitope_sequences:\n",
    "    one_hot_encoded_seq = one_hot_encode_sequence(seq)\n",
    "    padded_seq = pad_sequence(one_hot_encoded_seq, max_seq_length)\n",
    "    flattened_seq = flatten_sequence(padded_seq)\n",
    "    X.append(flattened_seq)\n",
    "    y.append(1)  # Epitope label\n",
    "\n",
    "# Process non-epitope sequences\n",
    "for seq in non_epitope_sequences:\n",
    "    one_hot_encoded_seq = one_hot_encode_sequence(seq)\n",
    "    padded_seq = pad_sequence(one_hot_encoded_seq, max_seq_length)\n",
    "    flattened_seq = flatten_sequence(padded_seq)\n",
    "    X.append(flattened_seq)\n",
    "    y.append(0)  # Non-epitope label\n",
    "\n",
    "# Convert X and y to numpy arrays for machine learning\n",
    "X = np.array(X)\n",
    "y = np.array(y)\n",
    "\n",
    "print(\"Feature matrix (X):\\n\", X)\n",
    "print(\"Labels (y):\\n\", y)\n",
    "print(\"Shape of X:\", X.shape)\n",
    "print(\"Shape of y:\", y.shape)\n"
   ]
  },
  {
   "cell_type": "code",
   "execution_count": 11,
   "id": "c2440c34-7ea8-48e6-a787-e308ba097cac",
   "metadata": {},
   "outputs": [],
   "source": [
    "# Save X (features) and y (labels) as numpy files\n",
    "np.save('../data/X_featurized.npy', X)\n",
    "np.save('../data/y_labels.npy', y)\n"
   ]
  },
  {
   "cell_type": "code",
   "execution_count": 12,
   "id": "87ba92ad-f36c-4611-8926-12ba5a4ad339",
   "metadata": {},
   "outputs": [
    {
     "name": "stdout",
     "output_type": "stream",
     "text": [
      "Feature matrix (X):\n",
      " [[0. 0. 0. ... 0. 0. 0.]\n",
      " [0. 0. 0. ... 0. 0. 0.]\n",
      " [0. 0. 0. ... 0. 1. 0.]\n",
      " [0. 0. 0. ... 0. 0. 0.]]\n",
      "Labels (y):\n",
      " [1 1 0 0]\n",
      "Shape of X: (4, 10800)\n",
      "Shape of y: (4,)\n"
     ]
    }
   ],
   "source": [
    "# Load the saved files when needed\n",
    "X = np.load('../data/X_featurized.npy')\n",
    "y = np.load('../data/y_labels.npy')\n",
    "\n",
    "print(\"Feature matrix (X):\\n\", X)\n",
    "print(\"Labels (y):\\n\", y)\n",
    "print(\"Shape of X:\", X.shape)\n",
    "print(\"Shape of y:\", y.shape)\n"
   ]
  },
  {
   "cell_type": "code",
   "execution_count": 13,
   "id": "9e501e7f-c635-4b87-9803-fd0eb111e71e",
   "metadata": {},
   "outputs": [],
   "source": [
    "from sklearn.model_selection import train_test_split\n",
    "\n",
    "X_train, X_test, y_train, y_test = train_test_split(X, y, test_size=0.2, random_state=42)\n"
   ]
  },
  {
   "cell_type": "code",
   "execution_count": 14,
   "id": "a0fa213d-80dc-4645-8ef6-45baeade7375",
   "metadata": {},
   "outputs": [
    {
     "name": "stdout",
     "output_type": "stream",
     "text": [
      "Accuracy: 0.0\n"
     ]
    }
   ],
   "source": [
    "from sklearn.ensemble import RandomForestClassifier\n",
    "from sklearn.metrics import accuracy_score\n",
    "\n",
    "# Initialize the classifier\n",
    "clf = RandomForestClassifier(n_estimators=100, random_state=42)\n",
    "\n",
    "# Train the model\n",
    "clf.fit(X_train, y_train)\n",
    "\n",
    "# Predict on test set\n",
    "y_pred = clf.predict(X_test)\n",
    "\n",
    "# Evaluate the model\n",
    "print(\"Accuracy:\", accuracy_score(y_test, y_pred))\n"
   ]
  },
  {
   "cell_type": "code",
   "execution_count": null,
   "id": "ea748e8e-d70c-4dd1-a5f9-e05fe4b8d943",
   "metadata": {},
   "outputs": [],
   "source": []
  }
 ],
 "metadata": {
  "kernelspec": {
   "display_name": "Python 3 (ipykernel)",
   "language": "python",
   "name": "python3"
  },
  "language_info": {
   "codemirror_mode": {
    "name": "ipython",
    "version": 3
   },
   "file_extension": ".py",
   "mimetype": "text/x-python",
   "name": "python",
   "nbconvert_exporter": "python",
   "pygments_lexer": "ipython3",
   "version": "3.12.9"
  }
 },
 "nbformat": 4,
 "nbformat_minor": 5
}
